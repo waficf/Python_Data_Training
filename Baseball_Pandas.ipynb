{
 "cells": [
  {
   "cell_type": "markdown",
   "metadata": {},
   "source": [
    "# Questions answered in this report\n",
    "\n",
    "1. Is there a relationship between the team that sent the most players to the AllStar Games and the mean salary of each of their players vs the entire league since 1985\n",
    "2. What are the characteristics of baseball players with the highest salaries?\n",
    "3. I want to figure out of there is a correlation between players salaries and awards won?¶"
   ]
  },
  {
   "cell_type": "markdown",
   "metadata": {},
   "source": [
    "# Import Libraries"
   ]
  },
  {
   "cell_type": "code",
   "execution_count": 1,
   "metadata": {},
   "outputs": [
    {
     "name": "stderr",
     "output_type": "stream",
     "text": [
      "/Users/wafic/anaconda/envs/py2/lib/python2.7/site-packages/IPython/html.py:14: ShimWarning: The `IPython.html` package has been deprecated since IPython 4.0. You should import from `notebook` instead. `IPython.html.widgets` has moved to `ipywidgets`.\n",
      "  \"`IPython.html.widgets` has moved to `ipywidgets`.\", ShimWarning)\n"
     ]
    }
   ],
   "source": [
    "import pandas as pd\n",
    "import numpy as np\n",
    "import matplotlib.pyplot as plt\n",
    "import seaborn as sns\n",
    "%matplotlib inline"
   ]
  },
  {
   "cell_type": "markdown",
   "metadata": {},
   "source": [
    "# Load Baseball Data from CSV"
   ]
  },
  {
   "cell_type": "code",
   "execution_count": 2,
   "metadata": {
    "collapsed": true
   },
   "outputs": [],
   "source": [
    "# AllStarFull - All-Star appearances\n",
    "AllStarFull = pd.read_csv('/Users/wafic/Documents/DAND/2_Intro_to_Data/baseballdatabank-2017.1/core/AllstarFull.csv')\n",
    "\n",
    "# HallofFame - Hall of Fame voting data\n",
    "HallofFame = pd.read_csv('/Users/wafic/Documents/DAND/2_Intro_to_Data/baseballdatabank-2017.1/core/HallofFame.csv')\n",
    "\n",
    "#Pitching table\n",
    "Pitching = pd.read_csv('/Users/wafic/Documents/DAND/2_Intro_to_Data/baseballdatabank-2017.1/core/Pitching.csv')\n",
    "\n",
    "#Batting table\n",
    "Batting = pd.read_csv('/Users/wafic/Documents/DAND/2_Intro_to_Data/baseballdatabank-2017.1/core/Batting.csv')\n",
    "\n",
    "# Managers - managerial statistics\n",
    "Managers = pd.read_csv('/Users/wafic/Documents/DAND/2_Intro_to_Data/baseballdatabank-2017.1/core/Managers.csv')\n",
    "\n",
    "# Teams - yearly stats and standings \n",
    "Teams = pd.read_csv('/Users/wafic/Documents/DAND/2_Intro_to_Data/baseballdatabank-2017.1/core/Teams.csv')\n",
    "\n",
    "# Salaries - player salary data\n",
    "Salaries = pd.read_csv('/Users/wafic/Documents/DAND/2_Intro_to_Data/baseballdatabank-2017.1/core/Salaries.csv')\n",
    "\n",
    "# AwardsManagers - awards won by managers \n",
    "AwardsManagers = pd.read_csv('/Users/wafic/Documents/DAND/2_Intro_to_Data/baseballdatabank-2017.1/core/AwardsManagers.csv')\n",
    "\n",
    "# AwardsPlayers - awards won by players\n",
    "AwardsPlayers = pd.read_csv('/Users/wafic/Documents/DAND/2_Intro_to_Data/baseballdatabank-2017.1/core/AwardsPlayers.csv')\n",
    "\n",
    "# Appearances - details on the positions a player appeared at\n",
    "Appearances = pd.read_csv('/Users/wafic/Documents/DAND/2_Intro_to_Data/baseballdatabank-2017.1/core/Appearances.csv')\n",
    "\n",
    "# CollegePlaying - list of players and the colleges they attended\n",
    "CollegePlaying = pd.read_csv('/Users/wafic/Documents/DAND/2_Intro_to_Data/baseballdatabank-2017.1/core/CollegePlaying.csv')\n",
    "\n",
    "# master - Players information\n",
    "Master = pd.read_csv('/Users/wafic/Documents/DAND/2_Intro_to_Data/baseballdatabank-2017.1/core/Master.csv')\n"
   ]
  },
  {
   "cell_type": "markdown",
   "metadata": {},
   "source": [
    "# Investigate Data Types of Variables & Null Count"
   ]
  },
  {
   "cell_type": "markdown",
   "metadata": {
    "scrolled": true
   },
   "source": [
    "#### Used the below functions to figure out the variables and missing records\n",
    "#Salaries.info()\n",
    "#AwardsPlayers.isnull().sum() #Here I will check if there is a high value of nulls that will make the series useless\n",
    "#len(AwardsManagers)"
   ]
  },
  {
   "cell_type": "markdown",
   "metadata": {},
   "source": [
    "##### Below are all the variables with missing records in every table that will be used"
   ]
  },
  {
   "cell_type": "markdown",
   "metadata": {},
   "source": [
    "#### AllStarFull Table"
   ]
  },
  {
   "cell_type": "markdown",
   "metadata": {},
   "source": [
    "- gameID           49 (Drop entire record)\n",
    "- GP               19 (Drop entire record)\n",
    "- startingPos    3548 (Drop entire column)"
   ]
  },
  {
   "cell_type": "code",
   "execution_count": 3,
   "metadata": {
    "collapsed": true
   },
   "outputs": [],
   "source": [
    "#Treating AllStarFull Table\n",
    "#First dtop entire column startingPos\n",
    "AllStarFull_New = AllStarFull.drop('startingPos', axis=1)\n",
    "#Then drop the entire rows with the missing gameID and GP\n",
    "AllStarFull_New = AllStarFull_New.dropna()"
   ]
  },
  {
   "cell_type": "markdown",
   "metadata": {},
   "source": [
    "#### HallofFame"
   ]
  },
  {
   "cell_type": "markdown",
   "metadata": {},
   "source": [
    "\n",
    "- ballots 195 records\n",
    "- needed 352\n",
    "- votes 195\n",
    "- needed_notes 3999\n",
    "\n",
    "\n",
    "- For ballots, needed and votes we can simply convert them replace them with zero because the are by most less than 10% of the records and wouldnt make sence to drop the entire row.\n",
    "- As for needed_note we need to drop the entire column"
   ]
  },
  {
   "cell_type": "code",
   "execution_count": 4,
   "metadata": {
    "collapsed": true
   },
   "outputs": [],
   "source": [
    "HallofFame_New = HallofFame.drop('needed_note', axis=1)"
   ]
  },
  {
   "cell_type": "markdown",
   "metadata": {},
   "source": [
    "#### Teams Table"
   ]
  },
  {
   "cell_type": "markdown",
   "metadata": {},
   "source": [
    "\n",
    "- lgID                50 (Replace with 0)\n",
    "- divID             1517 (Drop enire variable)\n",
    "- Ghome              399 (Replace with 0)\n",
    "- DivWin            1545 (Drop enire variable)\n",
    "- WCWin             2181 (Drop enire variable)\n",
    "- LgWin               28 (Replace with 0)\n",
    "- WSWin              357 (Replace with 0)\n",
    "- SO                 120 (Replace with 0)\n",
    "- SB                 144 (Replace with 0)\n",
    "- CS                 859 (Drop enire variable)\n",
    "- HBP               2325 (Drop enire variable)\n",
    "- DP                 317 (Replace with 0)\n",
    "- park                34 (Replace with 0)\n",
    "- attendance         279 (Replace with 0)"
   ]
  },
  {
   "cell_type": "markdown",
   "metadata": {},
   "source": [
    "#### AwardsManager Table"
   ]
  },
  {
   "cell_type": "markdown",
   "metadata": {},
   "source": [
    "- tie         177 (Drop entire column)\n",
    "- notes       178 (Drop entire column)"
   ]
  },
  {
   "cell_type": "markdown",
   "metadata": {},
   "source": [
    "#### AwardsPlayers Table"
   ]
  },
  {
   "cell_type": "markdown",
   "metadata": {},
   "source": [
    "- tie         6111 (Drop entire column)\n",
    "- notes       1448 (Drop entire column)"
   ]
  },
  {
   "cell_type": "markdown",
   "metadata": {},
   "source": [
    "#### Appearances Table"
   ]
  },
  {
   "cell_type": "markdown",
   "metadata": {},
   "source": [
    "- lgID           737 (Since number is so small from the entire data, we can delete the entire records)\n",
    "- GS           12595 (Drop entire column)\n",
    "- G_dh         12595 (Drop entire column)\n",
    "- G_ph         12595 (Drop entire column)\n",
    "- G_pr         12595 (Drop entire column)"
   ]
  },
  {
   "cell_type": "markdown",
   "metadata": {},
   "source": [
    "#### Master Table\n",
    "\n",
    "- birthYear        132\n",
    "- birthMonth       302\n",
    "- birthDay         449\n",
    "- birthCountry      69\n",
    "- birthState       571\n",
    "- birthCity        180\n",
    "- deathYear       9664\n",
    "- deathMonth      9665\n",
    "- deathDay        9666\n",
    "- deathCountry    9669\n",
    "- deathState      9715\n",
    "- deathCity       9674\n",
    "- nameFirst         37\n",
    "- nameGiven         37\n",
    "- weight           854\n",
    "- height           785\n",
    "- bats            1185\n",
    "- throws           979\n",
    "- debut            195\n",
    "- finalGame        195\n",
    "- retroID           56\n",
    "- bbrefID            2"
   ]
  },
  {
   "cell_type": "code",
   "execution_count": 5,
   "metadata": {
    "collapsed": true
   },
   "outputs": [],
   "source": [
    "#I will replace all null values with zero because it doesnt make sence to remove entire row for one missing observation\n",
    "#and I can use mean for string and date observations\n",
    "master_new = Master.fillna(value=0)"
   ]
  },
  {
   "cell_type": "markdown",
   "metadata": {},
   "source": [
    "## Investigating the Data"
   ]
  },
  {
   "cell_type": "markdown",
   "metadata": {},
   "source": [
    "#### Below is a list of the number of players in most tables which gives us an idea of which tables to concentrate that have useful data about the players"
   ]
  },
  {
   "cell_type": "code",
   "execution_count": 6,
   "metadata": {},
   "outputs": [
    {
     "data": {
      "text/plain": [
       "19105"
      ]
     },
     "execution_count": 6,
     "metadata": {},
     "output_type": "execute_result"
    }
   ],
   "source": [
    "#Number of unique players\n",
    "len(Master['playerID'].unique())"
   ]
  },
  {
   "cell_type": "code",
   "execution_count": 7,
   "metadata": {},
   "outputs": [
    {
     "data": {
      "text/plain": [
       "6575"
      ]
     },
     "execution_count": 7,
     "metadata": {},
     "output_type": "execute_result"
    }
   ],
   "source": [
    "#Number of players that played baseball at college\n",
    "len(CollegePlaying['playerID'].unique())"
   ]
  },
  {
   "cell_type": "code",
   "execution_count": 8,
   "metadata": {},
   "outputs": [
    {
     "data": {
      "text/plain": [
       "5155"
      ]
     },
     "execution_count": 8,
     "metadata": {},
     "output_type": "execute_result"
    }
   ],
   "source": [
    "#Number of players salaries available for players from 1985\n",
    "len(Salaries['playerID'].unique())"
   ]
  },
  {
   "cell_type": "code",
   "execution_count": 9,
   "metadata": {},
   "outputs": [
    {
     "data": {
      "text/plain": [
       "1774"
      ]
     },
     "execution_count": 9,
     "metadata": {},
     "output_type": "execute_result"
    }
   ],
   "source": [
    "#Number players whom participated in the All Star Games since 1933\n",
    "len(AllStarFull['playerID'].unique())"
   ]
  },
  {
   "cell_type": "code",
   "execution_count": 10,
   "metadata": {},
   "outputs": [
    {
     "data": {
      "text/plain": [
       "1260"
      ]
     },
     "execution_count": 10,
     "metadata": {},
     "output_type": "execute_result"
    }
   ],
   "source": [
    "#Number of players in hall of fame since 1936\n",
    "len(HallofFame['playerID'].unique())"
   ]
  },
  {
   "cell_type": "code",
   "execution_count": 11,
   "metadata": {},
   "outputs": [
    {
     "data": {
      "text/plain": [
       "1343"
      ]
     },
     "execution_count": 11,
     "metadata": {},
     "output_type": "execute_result"
    }
   ],
   "source": [
    "#Number of players with at least 1 award\n",
    "len(AwardsPlayers['playerID'].unique())"
   ]
  },
  {
   "cell_type": "code",
   "execution_count": 12,
   "metadata": {},
   "outputs": [
    {
     "data": {
      "text/plain": [
       "9302"
      ]
     },
     "execution_count": 12,
     "metadata": {},
     "output_type": "execute_result"
    }
   ],
   "source": [
    "#Number of players that have pitched\n",
    "len(Pitching['playerID'].unique())"
   ]
  },
  {
   "cell_type": "code",
   "execution_count": 13,
   "metadata": {},
   "outputs": [
    {
     "data": {
      "text/plain": [
       "18915"
      ]
     },
     "execution_count": 13,
     "metadata": {},
     "output_type": "execute_result"
    }
   ],
   "source": [
    "#Number of players that have batted, which is double the number of pitching players\n",
    "len(Batting['playerID'].unique())"
   ]
  },
  {
   "cell_type": "markdown",
   "metadata": {},
   "source": [
    "## Useful General Functions"
   ]
  },
  {
   "cell_type": "code",
   "execution_count": 14,
   "metadata": {
    "collapsed": true
   },
   "outputs": [],
   "source": [
    "#Usefull function to group by playerID and sum any other column in dataframe\n",
    "def grouping(dataframe, column):\n",
    "    grouped_data = dataframe.groupby('playerID').sum()[column]\n",
    "    return grouped_data"
   ]
  },
  {
   "cell_type": "code",
   "execution_count": 15,
   "metadata": {
    "collapsed": true
   },
   "outputs": [],
   "source": [
    "#Returns data sets without zero which in some cases can be useful to have a more accurate mean\n",
    "def remove_zero(dataframe):\n",
    "    return dataframe[dataframe != 0]"
   ]
  },
  {
   "cell_type": "code",
   "execution_count": 16,
   "metadata": {
    "collapsed": true
   },
   "outputs": [],
   "source": [
    "#Due the fact that most data is best after 1985,I decided to build this function\n",
    "def after_1985(dataframe):\n",
    "    return dataframe.loc[dataframe['yearID'] >= 1985]"
   ]
  },
  {
   "cell_type": "code",
   "execution_count": 17,
   "metadata": {
    "collapsed": true
   },
   "outputs": [],
   "source": [
    "#Usefull function to group by playerID and count any other column in dataframe\n",
    "def grouping_count(dataframe, column):\n",
    "    return dataframe.groupby('playerID')[column].count().to_frame('count').reset_index()"
   ]
  },
  {
   "cell_type": "markdown",
   "metadata": {},
   "source": [
    "###  Batting Stats per Player\n",
    "These are some stats around baseball that can be useful in understanding the data"
   ]
  },
  {
   "cell_type": "code",
   "execution_count": 18,
   "metadata": {
    "collapsed": true
   },
   "outputs": [],
   "source": [
    "#Due the fact that most data is best after 1985,I decided to build my data on these dates for these stats\n",
    "batting_1985 = after_1985(Batting)"
   ]
  },
  {
   "cell_type": "code",
   "execution_count": 19,
   "metadata": {
    "collapsed": true
   },
   "outputs": [],
   "source": [
    "#Batting average (BA) per player after year 1985\n",
    "bats_by_player = grouping(batting_1985, ['AB'])\n",
    "hits_by_player = grouping(batting_1985, ['H'])\n",
    "batting_avg = hits_by_player['H'].div(bats_by_player['AB'])\n",
    "batting_avg.dropna(inplace = True) #removed rows with Null values"
   ]
  },
  {
   "cell_type": "code",
   "execution_count": 20,
   "metadata": {
    "collapsed": true
   },
   "outputs": [],
   "source": [
    "#number of homerun hits per player\n",
    "homeruns = grouping(batting_1985, ['HR']).apply(remove_zero)"
   ]
  },
  {
   "cell_type": "code",
   "execution_count": 21,
   "metadata": {
    "collapsed": true
   },
   "outputs": [],
   "source": [
    "#RBI per player\n",
    "RBIs = grouping(batting_1985, ['RBI']).apply(remove_zero)"
   ]
  },
  {
   "cell_type": "code",
   "execution_count": 22,
   "metadata": {
    "collapsed": true
   },
   "outputs": [],
   "source": [
    "#Runs Scored per player\n",
    "runs = grouping(batting_1985, ['R']).apply(remove_zero)"
   ]
  },
  {
   "cell_type": "code",
   "execution_count": 23,
   "metadata": {
    "collapsed": true
   },
   "outputs": [],
   "source": [
    "#Stolen Bases per player\n",
    "stolen_bases = grouping(batting_1985, ['SB']).apply(remove_zero)"
   ]
  },
  {
   "cell_type": "markdown",
   "metadata": {},
   "source": [
    "### Pitching Stats per Player\n",
    "These are some stats around baseball that can be useful in understanding the data"
   ]
  },
  {
   "cell_type": "code",
   "execution_count": 24,
   "metadata": {
    "collapsed": true
   },
   "outputs": [],
   "source": [
    "#Due the fact that most data is best after 1985,I decided to build my data on these dates for these stats\n",
    "#Pitching.ix[(Pitching['yearID']==1985)]\n",
    "pitching_1985 = after_1985(Pitching)"
   ]
  },
  {
   "cell_type": "code",
   "execution_count": 25,
   "metadata": {
    "collapsed": true
   },
   "outputs": [],
   "source": [
    "#Number of strikeouts per player\n",
    "strikeouts = grouping(pitching_1985, ['SO']).apply(remove_zero)"
   ]
  },
  {
   "cell_type": "code",
   "execution_count": 26,
   "metadata": {
    "collapsed": true
   },
   "outputs": [],
   "source": [
    "#Number of wins per player\n",
    "wins = grouping(pitching_1985, ['W']).apply(remove_zero)"
   ]
  },
  {
   "cell_type": "code",
   "execution_count": 27,
   "metadata": {
    "collapsed": true
   },
   "outputs": [],
   "source": [
    "#Earned runs average per player\n",
    "era = grouping(pitching_1985, ['ERA']).apply(remove_zero)"
   ]
  },
  {
   "cell_type": "code",
   "execution_count": 28,
   "metadata": {
    "collapsed": true
   },
   "outputs": [],
   "source": [
    "#WHIP average per player\n",
    "#WHIP = (Number of hits allowed + Number of walks allowed) / Number of Innings Pitched\n",
    "number_hits = grouping(pitching_1985, ['H']).apply(remove_zero)\n",
    "number_walks = grouping(pitching_1985, ['BB']).apply(remove_zero)\n",
    "innings_pitched = grouping(pitching_1985, ['IPouts']).apply(remove_zero)\n",
    "whip = ( number_hits['H'] + number_walks['BB']) / innings_pitched['IPouts']"
   ]
  },
  {
   "cell_type": "code",
   "execution_count": 29,
   "metadata": {
    "collapsed": true
   },
   "outputs": [],
   "source": [
    "#Saves\n",
    "saves = grouping(pitching_1985, ['SV']).apply(remove_zero)"
   ]
  },
  {
   "cell_type": "markdown",
   "metadata": {},
   "source": [
    "### Question 1: Is there a relationship between the team that sent the most players to the AllStar Games and the mean salary of each of their players vs the entire league since 1985\n",
    "In other words, will teams with the highest participations yield a player salary increase"
   ]
  },
  {
   "cell_type": "markdown",
   "metadata": {},
   "source": [
    "#### 1. Preparing data sets"
   ]
  },
  {
   "cell_type": "code",
   "execution_count": 30,
   "metadata": {
    "collapsed": true
   },
   "outputs": [],
   "source": [
    "# Extract only the AllStarGames obserations  \n",
    "salaries_AL = Salaries.ix[(Salaries['lgID']=='AL')]"
   ]
  },
  {
   "cell_type": "markdown",
   "metadata": {},
   "source": [
    "#### 2. Preparing functions"
   ]
  },
  {
   "cell_type": "code",
   "execution_count": 31,
   "metadata": {
    "collapsed": true
   },
   "outputs": [],
   "source": [
    "#Correlation function\n",
    "def correlation(x, y):\n",
    "    variable_1 = (x - x.mean()) / x.std(ddof=0)\n",
    "    variable_2 = (y - y.mean()) / y.std(ddof=0)\n",
    "\n",
    "    correlation = (variable_1 * variable_2).mean()\n",
    "    \n",
    "    return correlation"
   ]
  },
  {
   "cell_type": "code",
   "execution_count": 32,
   "metadata": {
    "collapsed": true
   },
   "outputs": [],
   "source": [
    "# Team that sent the most to the AllStarGames\n",
    "def teams(dataframe,n):\n",
    "    sorted_teams = dataframe.groupby('teamID')[['playerID']].count().sort_values('playerID', ascending = False)\n",
    "    # return the list of top 'n' teams and the list of number of players\n",
    "    return list(sorted_teams.index)[:n], list(sorted_teams.values)[:n]"
   ]
  },
  {
   "cell_type": "markdown",
   "metadata": {},
   "source": [
    "#### 3. Data investigation"
   ]
  },
  {
   "cell_type": "code",
   "execution_count": 33,
   "metadata": {},
   "outputs": [
    {
     "name": "stdout",
     "output_type": "stream",
     "text": [
      "['CLE'] [array([948])]\n"
     ]
    }
   ],
   "source": [
    "#This is the team thta have sent the highest number of players to the Allstar Games since 1985\n",
    "team, number = teams(salaries_AL,1)\n",
    "print team, number"
   ]
  },
  {
   "cell_type": "code",
   "execution_count": 34,
   "metadata": {
    "collapsed": true
   },
   "outputs": [],
   "source": [
    "#1.a. Mean salary of every player of the team with the highest number of players sent\n",
    "best_team_salaries = salaries_AL.loc[salaries_AL['teamID'].isin(team)].groupby('playerID')['salary'].agg(['mean'])"
   ]
  },
  {
   "cell_type": "code",
   "execution_count": 35,
   "metadata": {
    "collapsed": true
   },
   "outputs": [],
   "source": [
    "#1.b. Number of player appearances from the top team in the AllStarGames\n",
    "best_team_appearances = salaries_AL.loc[salaries_AL['teamID'].isin(team)].groupby('playerID')['yearID'].agg(['count'])"
   ]
  },
  {
   "cell_type": "code",
   "execution_count": 36,
   "metadata": {},
   "outputs": [
    {
     "data": {
      "text/plain": [
       "0.20706655050823675"
      ]
     },
     "execution_count": 36,
     "metadata": {},
     "output_type": "execute_result"
    }
   ],
   "source": [
    "#1.c correlation between players salaries and their apperances for the team with most AllStar appearances\n",
    "salaries_top = best_team_salaries.values\n",
    "appearances_top = best_team_appearances.values\n",
    "correlation(salaries_top, appearances_top)"
   ]
  },
  {
   "cell_type": "code",
   "execution_count": 37,
   "metadata": {
    "collapsed": true
   },
   "outputs": [],
   "source": [
    "#2.a Mean salary for players for the entire league\n",
    "Allstar_salaries = salaries_AL.groupby('playerID')['salary'].agg(['mean']) #mean salary of every player"
   ]
  },
  {
   "cell_type": "code",
   "execution_count": 38,
   "metadata": {
    "collapsed": true
   },
   "outputs": [],
   "source": [
    "#2.b Number of player appearances from the entire league in the AllStarGames\n",
    "Allstar_appearances = salaries_AL.groupby('playerID')['playerID'].agg(['count'])"
   ]
  },
  {
   "cell_type": "code",
   "execution_count": 39,
   "metadata": {},
   "outputs": [
    {
     "data": {
      "text/plain": [
       "0.33604770568222836"
      ]
     },
     "execution_count": 39,
     "metadata": {},
     "output_type": "execute_result"
    }
   ],
   "source": [
    "#2.c correlation between players salaries and their appearances for the entire league\n",
    "salaries_league = Allstar_salaries.values\n",
    "appearances_league = Allstar_appearances.values\n",
    "correlation(salaries_league, appearances_league)"
   ]
  },
  {
   "cell_type": "code",
   "execution_count": 40,
   "metadata": {
    "collapsed": true
   },
   "outputs": [],
   "source": [
    "#Scatter plot function that will plot both groups variable in relation with each other\n",
    "def scatterplot(dataframe, x, y):\n",
    "    ax = dataframe.plot.scatter(x='count', y='mean', title='Scatter Plot')\n",
    "    ax.set_xlabel(\"Player Participations in AllStar Games\")\n",
    "    ax.set_ylabel(\"Player Salary\")\n",
    "    return ax"
   ]
  },
  {
   "cell_type": "code",
   "execution_count": 41,
   "metadata": {
    "collapsed": true
   },
   "outputs": [],
   "source": [
    "#Tables with players mean salaries and number of participations in AllStar games\n",
    "top_team_players = best_team_salaries.reset_index().merge(best_team_appearances.reset_index(), on='playerID', how='inner')"
   ]
  },
  {
   "cell_type": "code",
   "execution_count": 42,
   "metadata": {
    "collapsed": true
   },
   "outputs": [],
   "source": [
    "#Tables with players mean salaries and number of participations in entire league\n",
    "all_team_players = Allstar_salaries.reset_index().merge(Allstar_appearances.reset_index(), on='playerID', how='inner')"
   ]
  },
  {
   "cell_type": "code",
   "execution_count": 43,
   "metadata": {},
   "outputs": [
    {
     "data": {
      "text/plain": [
       "<matplotlib.axes._subplots.AxesSubplot at 0x110e34d90>"
      ]
     },
     "execution_count": 43,
     "metadata": {},
     "output_type": "execute_result"
    },
    {
     "data": {
      "image/png": "[encoded data removed]",
      "text/plain": [
       "<matplotlib.figure.Figure at 0x1133aa9d0>"
      ]
     },
     "metadata": {},
     "output_type": "display_data"
    }
   ],
   "source": [
    "#Plotting top All Star Games team\n",
    "scatterplot(top_team_players, 'count', 'mean')"
   ]
  },
  {
   "cell_type": "code",
   "execution_count": 44,
   "metadata": {},
   "outputs": [
    {
     "data": {
      "text/plain": [
       "<matplotlib.axes._subplots.AxesSubplot at 0x1129b9e10>"
      ]
     },
     "execution_count": 44,
     "metadata": {},
     "output_type": "execute_result"
    },
    {
     "data": {
      "image/png": "[encoded data removed]",
      "text/plain": [
       "<matplotlib.figure.Figure at 0x1129b9750>"
      ]
     },
     "metadata": {},
     "output_type": "display_data"
    }
   ],
   "source": [
    "#Plotting the All Star Games teams\n",
    "scatterplot(all_team_players, 'count', 'mean')"
   ]
  },
  {
   "cell_type": "markdown",
   "metadata": {},
   "source": [
    "#### 4. Result\n",
    "\n",
    "Null hypothesis: There is no relationship between a player salary and number of times he participate in the All Star Games.\n",
    "\n",
    "Alternative hypothesis: I expected that the player whom participate in the ALL Star Games are those who tend to get the highest salaries.\n",
    "\n",
    "Looking at the relationship above between player participation and mean salary, we can see that it is positive for both groups but its even better for the entire All Star Games teams participations that the team with the highest number of AllStar participations (in this case it was Cleveland Indians).\n",
    "\n",
    "If we look at the above scatter plot, we can see that players that partipated the most tends to have a lower salary in both groups of players.\n",
    "\n",
    "We can't accept or reject the null hypythesis solely on this test but it can be a start to understand more about baseball data. \n",
    "\n",
    "For example, when I see that the highest paid players have the lowest participations, it make me curious to think about the nature of the league (maybe it aint as important as other leagues and couches prefer to keep their top players on the bench to rest) it also makes me think that maybe teams that are smaller(thus have lower paid players) tend to value this league more than the big players which  maybe gets us to study the nature of the teams."
   ]
  },
  {
   "cell_type": "markdown",
   "metadata": {},
   "source": [
    "### Question 2: What are the characteristics of baseball players with the highest salaries?"
   ]
  },
  {
   "cell_type": "markdown",
   "metadata": {},
   "source": [
    "#### Problems I faced\n",
    "I started by taking the mean of every player along with the number of years he played an dhere I faced 2 problems:\n",
    "1. Player with the highest salary played only 1 year (2016) which makes sense because of inflation and other aspects of money.\n",
    "2. Second problem I noticed that is that if I take the mean, I will be excluding lots of players whom will have their salaries mean lowered due to their first few seaons when their salaries where quite low\n",
    "3. If I decide to take the highest salary a player got paid during his career, I will also be subject to the error related to the valeu of money over time"
   ]
  },
  {
   "cell_type": "markdown",
   "metadata": {},
   "source": [
    "#### Solution\n",
    "- I decided to limit the study for the last 10 years which dramatically reduces the error of money value overtime\n",
    "- I decided to take the sum of all salaries a player got during the 5 years "
   ]
  },
  {
   "cell_type": "markdown",
   "metadata": {},
   "source": [
    "#### 1. Preparing the data sets\n",
    "\n",
    "Sample size: 40 players (20 top paid and 20 lowest paid)"
   ]
  },
  {
   "cell_type": "code",
   "execution_count": 45,
   "metadata": {
    "collapsed": true
   },
   "outputs": [],
   "source": [
    "#players salaries table from 2007 till 2016 which gives 5804 observations to work with\n",
    "salaries_10 = Salaries.loc[Salaries['yearID'] > 2006]"
   ]
  },
  {
   "cell_type": "code",
   "execution_count": 46,
   "metadata": {
    "collapsed": true
   },
   "outputs": [],
   "source": [
    "#Grouped players and extracted the sum of theor salaries and the number of seasons\n",
    "#df1.groupby([\"Name\", \"City\"]).size().reset_index(name='count')\n",
    "sorted_players_10 = salaries_10.groupby('playerID')['salary'].agg(['sum', 'count']).reset_index().sort_values('sum', ascending = False)"
   ]
  },
  {
   "cell_type": "code",
   "execution_count": 47,
   "metadata": {
    "collapsed": true
   },
   "outputs": [],
   "source": [
    "#Extract the top 20 players\n",
    "#The sample below represnets players whom have played the same number of seasons during past 10 years\n",
    "#If we eyeball the salaries, there are no outliers on either sides which makes me confident that studying /\n",
    "#These players characterstics will give me a good idea about what makes them special\n",
    "top_20_players = sorted_players_10.head(20).reset_index()"
   ]
  },
  {
   "cell_type": "code",
   "execution_count": 48,
   "metadata": {
    "collapsed": true
   },
   "outputs": [],
   "source": [
    "#To better understand what makes these top 20 players special, I will extract the players with the lowest salaries / \n",
    "#and whom participated in at least 8 seasons during the past 10 years\n",
    "worst_20_players = sorted_players_10.loc[sorted_players_10['count'] >= 8].sort_values('count', ascending = False).tail(20)"
   ]
  },
  {
   "cell_type": "markdown",
   "metadata": {},
   "source": [
    "#### 2. Preparing functions"
   ]
  },
  {
   "cell_type": "code",
   "execution_count": 49,
   "metadata": {
    "collapsed": true
   },
   "outputs": [],
   "source": [
    "#Function that will integrate top_20_players and worst_20_players with other tables to investigate\n",
    "def merge_tables(dataframe_a, dataframe_b):\n",
    "    return dataframe_a.merge(dataframe_b, on='playerID', how='inner')"
   ]
  },
  {
   "cell_type": "code",
   "execution_count": 50,
   "metadata": {
    "collapsed": true
   },
   "outputs": [],
   "source": [
    "#Function that will plot 2 groups of players based on the KPI we want to compare\n",
    "def plot_function(dataframe_a, dataframe_b, y_axis, y_label):\n",
    "    fig = plt.figure\n",
    "    fig, (ax1, ax2) = plt.subplots(nrows=1, ncols=2)\n",
    "    dataframe_a.plot.bar(x='playerID', y= y_axis, color=['crimson'], legend=False, ax=ax1, figsize=(15,5))\n",
    "    ax1.set_title(\"Top 20 Paid players\")\n",
    "    ax1.set_ylabel(y_label)    \n",
    "    ax2.set_ylim((0, dataframe_a[y_axis].max()))\n",
    "    dataframe_b.plot.bar(x='playerID', y= y_axis, color=['blue'], legend=False, ax=ax2, figsize=(15,5))\n",
    "    ax2.set_title(\"Worst 20 Paid Players\")\n",
    "    plt.tight_layout()"
   ]
  },
  {
   "cell_type": "markdown",
   "metadata": {},
   "source": [
    "#### 3. Data Investigation"
   ]
  },
  {
   "cell_type": "markdown",
   "metadata": {},
   "source": [
    "#### a. Plotting players salaries of both groups"
   ]
  },
  {
   "cell_type": "code",
   "execution_count": 51,
   "metadata": {},
   "outputs": [
    {
     "data": {
      "image/png": "[encoded data removed]",
      "text/plain": [
       "<matplotlib.figure.Figure at 0x112a26890>"
      ]
     },
     "metadata": {},
     "output_type": "display_data"
    }
   ],
   "source": [
    "plot_function(top_20_players, worst_20_players, \"sum\", \"Players Salaries\")"
   ]
  },
  {
   "cell_type": "markdown",
   "metadata": {},
   "source": [
    "##### Summary 1:\n",
    "\n",
    "Putting the highest paid players vs the lowest paid side by side on same scale, we can see how the gap between these 2 players is. The lowest paid player in the top 20 group gets almost double the highest in the least paid group which can be due to several factors we investigated below:"
   ]
  },
  {
   "cell_type": "markdown",
   "metadata": {},
   "source": [
    "#### b. Players Batting Average"
   ]
  },
  {
   "cell_type": "code",
   "execution_count": 52,
   "metadata": {
    "collapsed": true
   },
   "outputs": [],
   "source": [
    "#Batting average per player\n",
    "BA = batting_avg.to_frame('BA').reset_index()"
   ]
  },
  {
   "cell_type": "code",
   "execution_count": 53,
   "metadata": {
    "collapsed": true
   },
   "outputs": [],
   "source": [
    "#Merging both players groups with the batting average\n",
    "top_players_BA = merge_tables(BA, top_20_players)\n",
    "worst_players_BA = merge_tables(BA, worst_20_players)"
   ]
  },
  {
   "cell_type": "code",
   "execution_count": 54,
   "metadata": {
    "scrolled": true
   },
   "outputs": [
    {
     "data": {
      "image/png": "[encoded data removed]",
      "text/plain": [
       "<matplotlib.figure.Figure at 0x114773790>"
      ]
     },
     "metadata": {},
     "output_type": "display_data"
    }
   ],
   "source": [
    "#As we can see below side by side, most players in the highest salaries perform better \n",
    "plot_function(top_players_BA, worst_players_BA, \"BA\", 'Batting Average (BA)')"
   ]
  },
  {
   "cell_type": "code",
   "execution_count": 55,
   "metadata": {},
   "outputs": [
    {
     "data": {
      "text/plain": [
       "0.071260404140410877"
      ]
     },
     "execution_count": 55,
     "metadata": {},
     "output_type": "execute_result"
    }
   ],
   "source": [
    "correlation(top_players_BA['BA'].values, top_20_players['sum'].values)"
   ]
  },
  {
   "cell_type": "code",
   "execution_count": 56,
   "metadata": {},
   "outputs": [
    {
     "data": {
      "text/plain": [
       "-0.092277866412608142"
      ]
     },
     "execution_count": 56,
     "metadata": {},
     "output_type": "execute_result"
    }
   ],
   "source": [
    "correlation(worst_players_BA['BA'].values, worst_20_players['sum'].values)"
   ]
  },
  {
   "cell_type": "markdown",
   "metadata": {},
   "source": [
    "##### Summary 2:\n",
    "\n",
    "Null hypothesis: BA has no affect on player salary.\n",
    "Alternative hypothesis: The higher a player BA the more attractive he is and gets a better deal on his money.\n",
    "\n",
    "Considering the BA to be among the most important KPIs in a player, we can see that both groups have high and low batting average, but does the players with the high salary tend to get them because of having a better BA. Looking at the correlation between the 2 groups we cant see any correlation, infact for the least paid players, we can see that it is negative (the better the BA the lower they get paid). \n",
    "\n",
    "The issue with BA is that it takes into consideration the hits by a player and divides them with the bats by the player, so if the player bats are low, there is a high probability his BA is great but only because he doesnt participate that much, similar to ratio of accident per driver, if I drive 20 KM per day the perc of having an accident is much lower than a taxi driver that might drive 500Km per day but taking this ratio alone doesnt imply I am a better driver.\n",
    "\n",
    "To conclude, we can accept ot neglect that BA affects a player salary directly because there are lot sof other lurking variables, for example what if a player doesn't bat because his of playing position but is a top player. Also to better understand the BA and any KPI I think we need to look at the number of games a player played during the last 10 years"
   ]
  },
  {
   "cell_type": "markdown",
   "metadata": {},
   "source": [
    "#### c. Number of games played per player"
   ]
  },
  {
   "cell_type": "code",
   "execution_count": 57,
   "metadata": {
    "collapsed": true
   },
   "outputs": [],
   "source": [
    "# Number of total games played per player\n",
    "total_games = grouping(Appearances, ['G_all']).reset_index()"
   ]
  },
  {
   "cell_type": "code",
   "execution_count": 58,
   "metadata": {
    "collapsed": true
   },
   "outputs": [],
   "source": [
    "top_players_games = merge_tables(total_games, top_20_players)\n",
    "worst_players_games = merge_tables(total_games, worst_20_players)"
   ]
  },
  {
   "cell_type": "code",
   "execution_count": 59,
   "metadata": {
    "scrolled": true
   },
   "outputs": [
    {
     "data": {
      "image/png": "[encoded data removed]",
      "text/plain": [
       "<matplotlib.figure.Figure at 0x113725350>"
      ]
     },
     "metadata": {},
     "output_type": "display_data"
    }
   ],
   "source": [
    "plot_function(top_players_games, worst_players_games, \"G_all\", 'Overall Games Played')"
   ]
  },
  {
   "cell_type": "code",
   "execution_count": 60,
   "metadata": {},
   "outputs": [
    {
     "data": {
      "text/plain": [
       "0.18441328404709453"
      ]
     },
     "execution_count": 60,
     "metadata": {},
     "output_type": "execute_result"
    }
   ],
   "source": [
    "correlation(top_players_games['G_all'].values, top_20_players['sum'].values)"
   ]
  },
  {
   "cell_type": "code",
   "execution_count": 61,
   "metadata": {},
   "outputs": [
    {
     "data": {
      "text/plain": [
       "-0.40614965489761384"
      ]
     },
     "execution_count": 61,
     "metadata": {},
     "output_type": "execute_result"
    }
   ],
   "source": [
    "correlation(worst_players_games['G_all'].values, top_20_players['sum'].values)"
   ]
  },
  {
   "cell_type": "markdown",
   "metadata": {},
   "source": [
    "##### Summary 3:\n",
    "\n",
    "Null hypothesis: Number of games has no affect on player salary.\n",
    "\n",
    "Alternative hypothesis: The more a player plays the better he get paid because this proves he is a successful player.\n",
    "\n",
    "We can easily see that high paid players plays a heck more games in the past 10 years than their fellow mates. Although the correlation is weak for the top players I think we have something interesting because usually the top players get to be bought and sold by the teams and coaches purchase players (along with a high yearly salary) for one single reason, they want them to play and to play almost every game in any league and by doing so the players gets more real life practice and gets more experience and become more valuable.\n",
    "\n",
    "although there is not enough evidence that games played gets you better paid, I assure that if we aggregate this variable with another variable we will definitely have a higher correlation and a better linear regression model for players to use to achieve higher salaries. \n",
    "\n",
    "I would love to get the number of hours players played in their entire career vs their salaries because I believe the more hours would definitely mean better salaries."
   ]
  },
  {
   "cell_type": "markdown",
   "metadata": {},
   "source": [
    "#### d. homeruns by player"
   ]
  },
  {
   "cell_type": "code",
   "execution_count": 62,
   "metadata": {
    "collapsed": true
   },
   "outputs": [],
   "source": [
    "hr = homeruns.reset_index()"
   ]
  },
  {
   "cell_type": "code",
   "execution_count": 63,
   "metadata": {
    "collapsed": true
   },
   "outputs": [],
   "source": [
    "top_players_hr = merge_tables(hr, top_20_players)\n",
    "worst_players_hr = merge_tables(hr, worst_20_players)"
   ]
  },
  {
   "cell_type": "code",
   "execution_count": 64,
   "metadata": {},
   "outputs": [
    {
     "data": {
      "image/png": "[encoded data removed]",
      "text/plain": [
       "<matplotlib.figure.Figure at 0x113260e50>"
      ]
     },
     "metadata": {},
     "output_type": "display_data"
    }
   ],
   "source": [
    "plot_function(top_players_hr, worst_players_hr, \"HR\", 'Homeruns')"
   ]
  },
  {
   "cell_type": "markdown",
   "metadata": {},
   "source": [
    "##### Summary 4:\n",
    "Looking at HR, I dont think we can build a hypothesis around it because lots of players in the sample has zero homeruns which is due to their position in the games, for that we will keep this KPI aside."
   ]
  },
  {
   "cell_type": "markdown",
   "metadata": {},
   "source": [
    "#### e. Number of awards awarded to players"
   ]
  },
  {
   "cell_type": "code",
   "execution_count": 65,
   "metadata": {
    "collapsed": true
   },
   "outputs": [],
   "source": [
    "awards_count = AwardsPlayers.groupby('playerID')['awardID'].count().to_frame('awards').reset_index()"
   ]
  },
  {
   "cell_type": "code",
   "execution_count": 66,
   "metadata": {
    "collapsed": true
   },
   "outputs": [],
   "source": [
    "top_players_awards = merge_tables(awards_count, top_20_players)\n",
    "worst_players_awards = merge_tables(awards_count, worst_20_players)"
   ]
  },
  {
   "cell_type": "code",
   "execution_count": 67,
   "metadata": {},
   "outputs": [
    {
     "data": {
      "image/png": "[encoded data removed]",
      "text/plain": [
       "<matplotlib.figure.Figure at 0x114174950>"
      ]
     },
     "metadata": {},
     "output_type": "display_data"
    }
   ],
   "source": [
    "plot_function(top_players_awards, worst_players_awards, \"awards\", 'Number of Awards')"
   ]
  },
  {
   "cell_type": "code",
   "execution_count": 68,
   "metadata": {
    "collapsed": true
   },
   "outputs": [],
   "source": [
    "#Added to include the player that didnt get an awards\n",
    "all_top_players_awards = top_players_awards.merge(top_20_players, how='outer')"
   ]
  },
  {
   "cell_type": "code",
   "execution_count": 69,
   "metadata": {},
   "outputs": [
    {
     "data": {
      "text/plain": [
       "-0.12813107636747187"
      ]
     },
     "execution_count": 69,
     "metadata": {},
     "output_type": "execute_result"
    }
   ],
   "source": [
    "correlation(all_top_players_awards.fillna(value=0)['awards'], top_20_players['sum'])"
   ]
  },
  {
   "cell_type": "code",
   "execution_count": 70,
   "metadata": {
    "collapsed": true
   },
   "outputs": [],
   "source": [
    "all_worst_players_awards = worst_players_awards.merge(top_20_players, how='outer')"
   ]
  },
  {
   "cell_type": "code",
   "execution_count": 71,
   "metadata": {},
   "outputs": [
    {
     "data": {
      "text/plain": [
       "0.53486677963212492"
      ]
     },
     "execution_count": 71,
     "metadata": {},
     "output_type": "execute_result"
    }
   ],
   "source": [
    "correlation(all_worst_players_awards.fillna(value=0)['awards'], top_20_players['sum'])"
   ]
  },
  {
   "cell_type": "markdown",
   "metadata": {},
   "source": [
    "##### Summary 4:\n",
    "Null hypothesis: Awards gained has no affect on the player salary\n",
    "\n",
    "Alternative hypothesis: The more awards the better his salary as he becomes more valuable\n",
    "\n",
    "We have something very intersting here. We can see that the there is a high correlation between number od awards a player get and the his salary for low paid players, and this is aligned with my prediction but yet the sample is hugely small and is skewing the results and becomes evident when I see that the top players have a negative correlation, in other words, the more you get in awards the lower your salary and especially that one of the top paid players had zero awards in the past 10 years.\n",
    "\n",
    "Such a hypothesis needs more investigation, for example, maybe I need to investigate more into the type of awards, maybe they are more given to players at specific positions, or maybe the awardign system in baseball changed in the past 10 years, even maybe awards are no more significant to baseball players as they are in football or basketball. Unless I can investigate these, I dont think I have any hypothesis here."
   ]
  },
  {
   "cell_type": "markdown",
   "metadata": {},
   "source": [
    "#### f. Lets see if there is a better chance you get higher salary if you are of a specific height "
   ]
  },
  {
   "cell_type": "code",
   "execution_count": 72,
   "metadata": {
    "collapsed": true
   },
   "outputs": [],
   "source": [
    "top_player_data= merge_tables(top_20_players, master_new)\n",
    "worst_player_data = merge_tables(worst_20_players, master_new)"
   ]
  },
  {
   "cell_type": "code",
   "execution_count": 73,
   "metadata": {},
   "outputs": [
    {
     "data": {
      "image/png": "[encoded data removed]",
      "text/plain": [
       "<matplotlib.figure.Figure at 0x112cf1890>"
      ]
     },
     "metadata": {},
     "output_type": "display_data"
    }
   ],
   "source": [
    "plot_function(top_player_data, worst_player_data, \"height\", 'Player Height')"
   ]
  },
  {
   "cell_type": "code",
   "execution_count": 74,
   "metadata": {},
   "outputs": [
    {
     "data": {
      "text/plain": [
       "74.799999999999997"
      ]
     },
     "execution_count": 74,
     "metadata": {},
     "output_type": "execute_result"
    }
   ],
   "source": [
    "top_player_data['height'].mean()"
   ]
  },
  {
   "cell_type": "code",
   "execution_count": 75,
   "metadata": {},
   "outputs": [
    {
     "data": {
      "text/plain": [
       "74.650000000000006"
      ]
     },
     "execution_count": 75,
     "metadata": {},
     "output_type": "execute_result"
    }
   ],
   "source": [
    "worst_player_data['height'].mean()"
   ]
  },
  {
   "cell_type": "markdown",
   "metadata": {},
   "source": [
    "Just looking at the above graph, I can see that the height is almost similar to all baseball players and it aint a difference to be considered"
   ]
  },
  {
   "cell_type": "markdown",
   "metadata": {},
   "source": [
    "#### g. Played at college"
   ]
  },
  {
   "cell_type": "code",
   "execution_count": 76,
   "metadata": {},
   "outputs": [
    {
     "data": {
      "text/plain": [
       "4"
      ]
     },
     "execution_count": 76,
     "metadata": {},
     "output_type": "execute_result"
    }
   ],
   "source": [
    "top_college_players = merge_tables(top_20_players, CollegePlaying)\n",
    "len(top_college_players['playerID'].unique())"
   ]
  },
  {
   "cell_type": "code",
   "execution_count": 77,
   "metadata": {},
   "outputs": [
    {
     "data": {
      "text/plain": [
       "7"
      ]
     },
     "execution_count": 77,
     "metadata": {},
     "output_type": "execute_result"
    }
   ],
   "source": [
    "worst_college_players = merge_tables(worst_20_players, CollegePlaying)\n",
    "len(worst_college_players['playerID'].unique())"
   ]
  },
  {
   "cell_type": "markdown",
   "metadata": {},
   "source": [
    "#### h. Number of times layers participated in the All Star Games"
   ]
  },
  {
   "cell_type": "code",
   "execution_count": 78,
   "metadata": {
    "collapsed": true
   },
   "outputs": [],
   "source": [
    "top_players_all_star = merge_tables(top_20_players, AllStarFull_New).groupby('playerID')['yearID'].count()\\\n",
    ".to_frame('all_star_games').reset_index()"
   ]
  },
  {
   "cell_type": "code",
   "execution_count": 79,
   "metadata": {
    "collapsed": true
   },
   "outputs": [],
   "source": [
    "worst_players_all_star = merge_tables(worst_20_players, AllStarFull_New).groupby('playerID')['yearID'].count()\\\n",
    ".to_frame('all_star_games').reset_index()"
   ]
  },
  {
   "cell_type": "code",
   "execution_count": 80,
   "metadata": {},
   "outputs": [
    {
     "data": {
      "image/png": "[encoded data removed]",
      "text/plain": [
       "<matplotlib.figure.Figure at 0x115edeed0>"
      ]
     },
     "metadata": {},
     "output_type": "display_data"
    }
   ],
   "source": [
    "plot_function(top_players_all_star, worst_players_all_star, \"all_star_games\", 'AllStar Games Appearance')"
   ]
  },
  {
   "cell_type": "code",
   "execution_count": 81,
   "metadata": {},
   "outputs": [
    {
     "data": {
      "text/plain": [
       "-0.18767784366842855"
      ]
     },
     "execution_count": 81,
     "metadata": {},
     "output_type": "execute_result"
    }
   ],
   "source": [
    "correlation(top_players_all_star['all_star_games'], top_20_players['sum'])"
   ]
  },
  {
   "cell_type": "markdown",
   "metadata": {},
   "source": [
    "##### Summary 5:\n",
    "Null hypothesis: All Star Appearance has no affect on the player salary\n",
    "\n",
    "Alternative hypothesis: The more a players participate in All Star Games the better his salary\n",
    "\n",
    "In this sample, there seems to be negative correlation between these 2 variables, and I believe it is due to thesize of the sample making the study obselete, to fix it we need to include more subjects for our analysis.\n"
   ]
  },
  {
   "cell_type": "markdown",
   "metadata": {},
   "source": [
    "### Question 3: I want to figure out of there is a correlation between players salaries and awards won?"
   ]
  },
  {
   "cell_type": "code",
   "execution_count": 82,
   "metadata": {
    "collapsed": true
   },
   "outputs": [],
   "source": [
    "#Counting number of awards a player acquired during his career\n",
    "count_awards = grouping_count(AwardsPlayers, 'awardID')"
   ]
  },
  {
   "cell_type": "code",
   "execution_count": 83,
   "metadata": {
    "collapsed": true
   },
   "outputs": [],
   "source": [
    "#Merge both tables (salary and awards count) in one table by playerID\n",
    "player_awards_salary = merge_tables(count_awards, Salaries)"
   ]
  },
  {
   "cell_type": "code",
   "execution_count": 84,
   "metadata": {},
   "outputs": [
    {
     "data": {
      "text/plain": [
       "0.20481041749788439"
      ]
     },
     "execution_count": 84,
     "metadata": {},
     "output_type": "execute_result"
    }
   ],
   "source": [
    "#Check for correlation between the 2 variables\n",
    "correlation(player_awards_salary['count'], player_awards_salary['salary'])"
   ]
  },
  {
   "cell_type": "code",
   "execution_count": 85,
   "metadata": {},
   "outputs": [
    {
     "data": {
      "text/plain": [
       "<matplotlib.text.Text at 0x112a3e890>"
      ]
     },
     "execution_count": 85,
     "metadata": {},
     "output_type": "execute_result"
    },
    {
     "data": {
      "image/png": "[encoded data removed]",
      "text/plain": [
       "<matplotlib.figure.Figure at 0x11327b790>"
      ]
     },
     "metadata": {},
     "output_type": "display_data"
    }
   ],
   "source": [
    "ax = player_awards_salary.plot.scatter(x='count', y='salary', title='Scatter Plot')\n",
    "ax.set_xlabel(\"Player awards won\")\n",
    "ax.set_ylabel(\"Player Salary\")"
   ]
  },
  {
   "cell_type": "markdown",
   "metadata": {},
   "source": [
    "### Results:\n",
    "Null hypothesis: Player awards does not affect salary\n",
    "\n",
    "Alternative hypothesis: Players awards yield higher salary because they become more valuable and attractive\n",
    "\n",
    "There is a correlation between these variables which align with our expectation especially that the analysis takes into consideration all the population of players whom ever got rewarded. Still we cant reject the null because there are lots of other factors to be investigated in the award itself. Also combining this variable with the other variables make it more sense to reach a hypothesis.\n"
   ]
  },
  {
   "cell_type": "markdown",
   "metadata": {
    "collapsed": true
   },
   "source": [
    "# Conclusion:\n",
    "\n",
    "In studying what basically affects a baseball player salary we have investigated few variables, although we can see some correlation, we know that there are lots of lurking variables especially that we are not controlling any given variables when conducting the observation.\n",
    "\n",
    "So basically our target variables were the player’s salary and the predictor variables that we investigated where the below:\n",
    "\n",
    "1. Team with the highest All Star appearances, looking at this variable in correlation with player salary of this team and that of the entire league, we couldn’t reach a definitive result but we were capable of concluding that there is a correlation between the team that sends most players but it seemed a low correlation because taking this predictor variable alone is not enough. To get this variable more useful, we have to understand how are players selected for the All Star Games league and does the team with the highest appearance usually the highest paying team.\n",
    "\n",
    "2. Here I investigated some important baseball KPIs which I used as variables to check if they affect the player salary. This approach is limited as it was conducted on a small sample which can severely skew my results. The study was conducted on the last 10 years and for 40 players, 20 top highest paid players and 20 bottom paid players. I did this study because I was curious whether players get paid the most because they are good at the game or do they get good at playing baseball because they play a lot and thus get paid higher. I can admit that I haven’t scratch the surface regarding what variables affect player’s salary but I reached the below:\n",
    "\n",
    "    1. BA (Batting Average), looking at this variable we can see a slight correlation between these 2 variables but to better understand and see the effect on salary, we need to expand our scope of samples to maybe include all players.\n",
    "    \n",
    "    2. Number of games played, I believe this variable has a lot of influence on the player salary, because we can see a correlation between top players number of games and salary, also we need to expand our scope of samples to maybe include all players.\n",
    "    \n",
    "    3. Number of awards, looking at the correlation it’s a bit strange because I expected players to get higher salary if they get more awards, for that I think we need to drop this variable because it seems there is no enough evidence that this variable has an effect on salary, maybe we need to select a specific types of rewards and then study their effect on player salary or expand the sample size.\n",
    "    \n",
    "    4. Player height, unlike basketball, it is obvious that this variable has to be dropped as it has no effect on player salary as the mean of player height is similar among top and bottom players.\n",
    "   \n",
    "3. In regard to the number of awards, I have expanded it to include the entire population and what we can see is aligned with our predictions although the correlation is only 20%. Looking at the scatter plot I can see that we can’t draw a line where the salary increase with the awards won by a player which can be due to some outliers and other factors that need to be investigated. \n",
    "\n",
    "4. Bottom line, I think for the data to make more sense we need to agree on a set of variables that might affect the salary, then apply a multi variable linear regression model to detect which variables have the highest effect because taking every variable on it own will not give any solid results. After running the model, we can then validate it by predicting future salaries of players."
   ]
  },
  {
   "cell_type": "code",
   "execution_count": null,
   "metadata": {
    "collapsed": true
   },
   "outputs": [],
   "source": []
  }
 ],
 "metadata": {
  "kernelspec": {
   "display_name": "Python 2",
   "language": "python",
   "name": "python2"
  },
  "language_info": {
   "codemirror_mode": {
    "name": "ipython",
    "version": 2
   },
   "file_extension": ".py",
   "mimetype": "text/x-python",
   "name": "python",
   "nbconvert_exporter": "python",
   "pygments_lexer": "ipython2",
   "version": "2.7.13"
  }
 },
 "nbformat": 4,
 "nbformat_minor": 2
}
